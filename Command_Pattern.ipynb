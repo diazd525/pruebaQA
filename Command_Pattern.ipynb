{
  "cells": [
    {
      "cell_type": "markdown",
      "metadata": {
        "id": "rQUu1FROhdVH"
      },
      "source": [
        "# **Command Pattern**\n",
        "\n",
        "** Definición:** Este patron convierte una solicitud en un objeto independiente que contiene toda la información sobre la solicitud. Esta transformación permite parametrizar métodos con diferentes solicitudes, retrasar o poner en cola la ejecución de una solicitud y respaldar operaciones que no se pueden deshacer\n",
        "\n",
        "**Principios SOLID aplicados**\n",
        "\n",
        "* DIP: Principio de inversión de dependecias\n",
        "* SRP: Principio de responsabilidad única\n",
        "* OCP:Principio Abierto/Cerrado\n",
        "* ISP: Principio de segregación de interfaces\n",
        "\n",
        "**Caso de Estudio**\n",
        "\n",
        "Implementar el patrón Command en un sistema de ordenes para un restaurante, en donde, el mesero puede tomar ordenes y enviarlas a la cocina encargada"
      ]
    },
    {
      "cell_type": "code",
      "source": [
        "from abc import ABC, abstractmethod\n",
        "\n",
        "class Orden(ABC):\n",
        "    @abstractmethod\n",
        "    def ejecutar(self):\n",
        "        pass\n",
        "\n",
        "# Se implementan clases concretas para las ordenes a utilizar\n",
        "class OrdenCarne(Orden):\n",
        "    def __init__(self, cocina):\n",
        "        self.cocina = cocina\n",
        "\n",
        "    def ejecutar(self):\n",
        "        self.cocina.preparar_carne()\n",
        "\n",
        "class OrdenHelado(Orden):\n",
        "    def __init__(self, cocina):\n",
        "        self.cocina = cocina\n",
        "\n",
        "    def ejecutar(self):\n",
        "        self.cocina.preparar_helado()\n",
        "\n",
        "# Se define el receptor de alimentos para la cocina\n",
        "class Cocina:\n",
        "    def preparar_carne(self):\n",
        "        print(\"Preparando carne\")\n",
        "\n",
        "    def preparar_helado(self):\n",
        "        print(\"Preparando helado\")\n",
        "\n",
        "# Se define un invocador para el almacenamienteo, limpeza, envio  y recibimiento de ordenes\n",
        "class Mesero:\n",
        "    def __init__(self):\n",
        "        self.ordenes = []\n",
        "\n",
        "    def tomar_orden(self, orden):\n",
        "        self.ordenes.append(orden)\n",
        "\n",
        "    def enviar_ordenes(self):\n",
        "        print(\"Enviando órdenes a la cocina\")\n",
        "        for orden in self.ordenes:\n",
        "            orden.ejecutar()\n",
        "        self.ordenes = []\n",
        "\n",
        "#Ejecucion del proceso al clinete\n",
        "\n",
        "if __name__ == \"__main__\":\n",
        "    cocina = Cocina()\n",
        "    orden_carne = OrdenCarne(cocina)\n",
        "    orden_helado = OrdenHelado(cocina)\n",
        "\n",
        "    mesero = Mesero()\n",
        "    mesero.tomar_orden(orden_carne)\n",
        "    mesero.tomar_orden(orden_helado)\n",
        "    mesero.enviar_ordenes()"
      ],
      "metadata": {
        "colab": {
          "base_uri": "https://localhost:8080/"
        },
        "id": "Z25hLOcUhHZB",
        "outputId": "cdffe034-8439-4a25-89a6-fc9e46212237"
      },
      "execution_count": 1,
      "outputs": [
        {
          "output_type": "stream",
          "name": "stdout",
          "text": [
            "Enviando órdenes a la cocina\n",
            "Preparando carne\n",
            "Preparando helado\n"
          ]
        }
      ]
    }
  ],
  "metadata": {
    "kernelspec": {
      "display_name": "Python 3",
      "language": "python",
      "name": "python3"
    },
    "language_info": {
      "name": "python",
      "version": "3.12.9"
    },
    "colab": {
      "provenance": [],
      "collapsed_sections": [
        "V3ru--h08nP1",
        "okbiMvRJhdVO"
      ]
    }
  },
  "nbformat": 4,
  "nbformat_minor": 0
}